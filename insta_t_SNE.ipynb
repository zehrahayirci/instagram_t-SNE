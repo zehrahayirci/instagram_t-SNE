{
  "nbformat": 4,
  "nbformat_minor": 0,
  "metadata": {
    "colab": {
      "name": "insta_t-SNE.ipynb",
      "version": "0.3.2",
      "provenance": [],
      "include_colab_link": true
    },
    "kernelspec": {
      "name": "python3",
      "display_name": "Python 3"
    },
    "accelerator": "GPU"
  },
  "cells": [
    {
      "cell_type": "markdown",
      "metadata": {
        "id": "view-in-github",
        "colab_type": "text"
      },
      "source": [
        "<a href=\"https://colab.research.google.com/github/zehrahayirci/instagram_t-SNE/blob/master/insta_t_SNE.ipynb\" target=\"_parent\"><img src=\"https://colab.research.google.com/assets/colab-badge.svg\" alt=\"Open In Colab\"/></a>"
      ]
    },
    {
      "cell_type": "markdown",
      "metadata": {
        "id": "kVbbth_dJt35",
        "colab_type": "text"
      },
      "source": [
        "Hello! In this Colab, we mplement t-SNE algorithm for color histagram and ImageNet classes of Instagram posts\n",
        "\n",
        "*   List item\n",
        "*   List item\n",
        "\n"
      ]
    },
    {
      "cell_type": "code",
      "metadata": {
        "id": "sx55y_K4qd2o",
        "colab_type": "code",
        "colab": {}
      },
      "source": [
        "import numpy as np\n",
        "import cv2 as cv\n",
        "import matplotlib.pyplot as plt\n",
        "from PIL import Image\n",
        "import glob\n",
        "import pickle\n",
        "from sklearn.manifold import TSNE\n",
        "from scipy.spatial.distance import cdist"
      ],
      "execution_count": 0,
      "outputs": []
    },
    {
      "cell_type": "markdown",
      "metadata": {
        "id": "eJVR3FVYKIGo",
        "colab_type": "text"
      },
      "source": [
        "First, we download photos from instagram by [instaloader](https://pypi.org/project/instaloader/)\n",
        "\n",
        "\n",
        "\n",
        "---\n",
        "\n"
      ]
    },
    {
      "cell_type": "code",
      "metadata": {
        "id": "_Ns2GYNCKOi7",
        "colab_type": "code",
        "colab": {}
      },
      "source": [
        "!pip install instaloader\n",
        "profilename = 'tokyoda100gun' #that's me!"
      ],
      "execution_count": 0,
      "outputs": []
    },
    {
      "cell_type": "markdown",
      "metadata": {
        "id": "Nnax1ijWLMPk",
        "colab_type": "text"
      },
      "source": [
        "We will get all photos of one user with\n",
        "`instaloader profile [profile ...]`\n",
        "\n",
        "Keep in mind that, this colab works best for 100+ posts to create 10x10 grid image\n"
      ]
    },
    {
      "cell_type": "code",
      "metadata": {
        "id": "MfjaBrf_K641",
        "colab_type": "code",
        "colab": {}
      },
      "source": [
        "!instaloader profile tokyoda100gun "
      ],
      "execution_count": 0,
      "outputs": []
    },
    {
      "cell_type": "markdown",
      "metadata": {
        "id": "71SrB_UvMYLJ",
        "colab_type": "text"
      },
      "source": [
        "If your profile is more than 100, or you want to add/discard manually you can use the Files bar on the left and locate your profile name. \n",
        "I want to use resized images. \n"
      ]
    },
    {
      "cell_type": "code",
      "metadata": {
        "id": "tf2JKXbte6I5",
        "colab_type": "code",
        "colab": {}
      },
      "source": [
        "\n",
        "instagram_files = \"/content/\" + profilename + \"/*.jpg\"\n",
        "resize_files = \"/content/\" + profilename +\"/\"\n",
        "for f,insta_file in enumerate(glob.glob(instagram_files)):\n",
        "    image = Image.open(insta_file)\n",
        "    resized_img =  image.resize((100,100), Image.ANTIALIAS)\n",
        "\n",
        "    #resized_img = Image.fromarray(resized_img)\n",
        "    outfile = resize_files + insta_file\n",
        "    print(resize_files+str(f)+'.png')\n",
        "    resized_img.save(resize_files+str(f)+'.png', 'png', quality=80)\n",
        "    if f > 98:\n",
        "      break\n",
        "    \n"
      ],
      "execution_count": 0,
      "outputs": []
    },
    {
      "cell_type": "markdown",
      "metadata": {
        "id": "CHRtXGiXqsB8",
        "colab_type": "text"
      },
      "source": [
        "First, we create histograms of the posts. Sorry for all b&w posts!"
      ]
    },
    {
      "cell_type": "code",
      "metadata": {
        "id": "pftSWVtSe_76",
        "colab_type": "code",
        "colab": {}
      },
      "source": [
        "resize_files = \"/content/\" + profilename +\"/*.png\"\n",
        "color = ('b','g','r')\n",
        "files = [resize_files]\n",
        "hist = {}\n",
        "index = 0 \n",
        "for filem in files:\n",
        "\thist[filem]={}\n",
        "\tfor filename in glob.glob(filem):\n",
        "\t\thist[filem][filename]={}\n",
        "\t\t#print(filename)\n",
        "\t\tfor i,col in enumerate(color):\n",
        "\t\t\tim=Image.open(filename)\n",
        "\t\t\timage_data = np.asarray(im)\n",
        "\t\t\tif len(image_data.shape) == 2 :\n",
        "\t\t\t\timage_data = cv.cvtColor(image_data,cv.COLOR_GRAY2RGB)\n",
        "\t\t\tindex = index +1\n",
        "\t\t\thist[filem][filename][col] = cv.calcHist([image_data],[i],None,[256],[0,256])\n",
        "\n",
        "with open('insta_histogram.pickle', 'wb') as f:\n",
        "\tpickle.dump(hist, f)\n",
        "print(index) #this should return 3 x your post count \n"
      ],
      "execution_count": 0,
      "outputs": []
    },
    {
      "cell_type": "markdown",
      "metadata": {
        "id": "7Qm6NS5ErOpC",
        "colab_type": "text"
      },
      "source": [
        "Create a list of all histogram of all images. \n",
        "I set perplexity to 25, but you can play it as you want"
      ]
    },
    {
      "cell_type": "code",
      "metadata": {
        "id": "LsZMGl4SlH_G",
        "colab_type": "code",
        "colab": {}
      },
      "source": [
        "with open('insta_histogram.pickle', 'rb') as f:\n",
        "\tdata = pickle.load(f)\n",
        "hist = np.zeros((100,768))\n",
        "filenames = []\n",
        "for fil, filem in enumerate(data): #1\n",
        "\tfor fn,filename in enumerate(data[filem]): #400\n",
        "\t\thist[fn,0:256] = data[filem][filename]['b'][:,0] #256\n",
        "\t\thist[fn,256:512] = data[filem][filename]['g'][:,0] #256\n",
        "\t\thist[fn,512:768] = data[filem][filename]['r'][:,0] #256\n",
        "\t\tfilenames.append((filem,filename))\n",
        "\n",
        "\t\t\n",
        "tsne = TSNE(perplexity=25, n_components=2, init='random', n_iter=5000)\n",
        "X_2d = tsne.fit_transform(np.array(hist))\n",
        "X_2d -= X_2d.min(axis=0)\n",
        "X_2d /= X_2d.max(axis=0)\n",
        "\n",
        "with open('tsne.pickle', 'wb') as f:\n",
        "\tpickle.dump({'tsne':X_2d,'name':filenames}, f)"
      ],
      "execution_count": 0,
      "outputs": []
    },
    {
      "cell_type": "markdown",
      "metadata": {
        "id": "nS1lOKMCsHfr",
        "colab_type": "text"
      },
      "source": [
        "We need lapjv to create a nice grid from t-SNE results"
      ]
    },
    {
      "cell_type": "code",
      "metadata": {
        "id": "isGnQyBtklEU",
        "colab_type": "code",
        "colab": {}
      },
      "source": [
        "!pip install lapjv\n",
        "from lapjv import lapjv"
      ],
      "execution_count": 0,
      "outputs": []
    },
    {
      "cell_type": "code",
      "metadata": {
        "id": "3Zjd1LJ8kvKn",
        "colab_type": "code",
        "colab": {}
      },
      "source": [
        "grid = np.dstack(np.meshgrid(np.linspace(0, 1, 10), np.linspace(0, 1, 10))).reshape(-1, 2)\n",
        "cost_matrix = cdist(grid, X_2d, \"sqeuclidean\").astype(np.float32)\n",
        "out_res = 120"
      ],
      "execution_count": 0,
      "outputs": []
    },
    {
      "cell_type": "code",
      "metadata": {
        "id": "QSsn5TO3l7Z4",
        "colab_type": "code",
        "colab": {}
      },
      "source": [
        "cost_matrix = cost_matrix * (100000 / cost_matrix.max())\n",
        "row_asses, col_asses, _ = lapjv(cost_matrix)\n",
        "grid_jv = grid[col_asses]"
      ],
      "execution_count": 0,
      "outputs": []
    },
    {
      "cell_type": "code",
      "metadata": {
        "id": "lW789aHQl9yT",
        "colab_type": "code",
        "colab": {}
      },
      "source": [
        "out = np.ones((10*out_res, 10*out_res, 3))\n",
        "\n",
        "for i in range(100):\n",
        "\tcoordinate_X =  int(np.floor(grid_jv[i,1]*9*out_res))\n",
        "\tcoordinate_Y =  int(np.floor(grid_jv[i,0]*9*out_res))\n",
        "\n",
        "\tim=Image.open(filenames[i][1]).convert('RGB').resize((120,120))\n",
        "\timage_data = np.asarray(im)\n",
        "\tout[coordinate_Y:coordinate_Y + out_res, coordinate_X:coordinate_X + out_res]  = image_data\n"
      ],
      "execution_count": 0,
      "outputs": []
    },
    {
      "cell_type": "code",
      "metadata": {
        "id": "ZvbJb1JTmfZh",
        "colab_type": "code",
        "colab": {}
      },
      "source": [
        "im = Image.fromarray(out.astype(np.uint8))\n",
        "im.save(\"insta_histogram.png\")\n",
        "plt.imshow(im)"
      ],
      "execution_count": 0,
      "outputs": []
    },
    {
      "cell_type": "markdown",
      "metadata": {
        "id": "PR5Yh1KwsQMk",
        "colab_type": "text"
      },
      "source": [
        "Perfect! now, we can continue to ImageNet classes and create another cost funtion.\n",
        "\n",
        "I use Resnet for it "
      ]
    },
    {
      "cell_type": "code",
      "metadata": {
        "id": "4wsPfS43m2Hh",
        "colab_type": "code",
        "colab": {}
      },
      "source": [
        "import torch\n",
        "import numpy as np\n",
        "import matplotlib.pyplot as plt\n",
        "import torchvision.models as models\n",
        "resnet18 = models.resnet18(pretrained=True)\n",
        "resnet18.eval()"
      ],
      "execution_count": 0,
      "outputs": []
    },
    {
      "cell_type": "markdown",
      "metadata": {
        "id": "yoZcfmtFsiy9",
        "colab_type": "text"
      },
      "source": [
        "I don't want to results for Imagenet, instead, I will use the last features.\n",
        "\n",
        "I discard the last activation step from the network.\n",
        "\n",
        "Please enable GPU from Edit -> Notebook Settings -> Hardware"
      ]
    },
    {
      "cell_type": "code",
      "metadata": {
        "id": "2qlf1d2XszYB",
        "colab_type": "code",
        "colab": {}
      },
      "source": [
        "import torch.nn as nn\n",
        "modus=list(resnet18.children())[:-1]\n",
        "resnet18_feature=nn.Sequential(*modus)\n",
        "resnet18_feature.cuda()\n",
        "for p in resnet18_feature.parameters():\n",
        "  p.requires_grad = False"
      ],
      "execution_count": 0,
      "outputs": []
    },
    {
      "cell_type": "markdown",
      "metadata": {
        "id": "rNJGXa0avuh2",
        "colab_type": "text"
      },
      "source": [
        "Again we will use 100 images. Go to the link below and allw Google Drive acces by copy paste the code."
      ]
    },
    {
      "cell_type": "code",
      "metadata": {
        "id": "Arney6Sbxjwm",
        "colab_type": "code",
        "colab": {}
      },
      "source": [
        "from torchvision import transforms\n",
        "transform = transforms.Compose([            #[1]\n",
        " transforms.Resize(256),                    #[2]\n",
        " transforms.CenterCrop(224),                #[3]\n",
        " transforms.ToTensor(),                     #[4]\n",
        " transforms.Normalize(                      #[5]\n",
        " mean=[0.485, 0.456, 0.406],                #[6]\n",
        " std=[0.229, 0.224, 0.225]                  #[7]\n",
        " )])"
      ],
      "execution_count": 0,
      "outputs": []
    },
    {
      "cell_type": "code",
      "metadata": {
        "id": "cztBgAVas0P8",
        "colab_type": "code",
        "colab": {}
      },
      "source": [
        "from google.colab import drive\n",
        "drive.mount('/content/gdrive/')\n",
        "files = [resize_files]\n",
        "features = {}\n",
        "features[folder] = {}\n",
        "for filem in files:\n",
        "  for img in  glob.glob(filem):\n",
        "\n",
        "    insta_image = Image.open(img)\n",
        "    print(img)\n",
        "    img_t = transform(insta_image)\n",
        "    batch_t = torch.unsqueeze(img_t, 0)\n",
        "\n",
        "    out_feature = resnet18_feature(batch_t.cuda())\n",
        "    out_feature = out_feature.view(512)\n",
        "    features[folder][img] = out_feature.cpu().detach().numpy().reshape(512)\n",
        "\n",
        "    \n",
        "\n"
      ],
      "execution_count": 0,
      "outputs": []
    },
    {
      "cell_type": "code",
      "metadata": {
        "id": "Os4iH9v3xkLZ",
        "colab_type": "code",
        "colab": {}
      },
      "source": [
        "features = {}\n",
        "features[folder] = {}\n",
        "print(all_images)\n",
        "for filem in all_images:\n",
        "  for img in  glob.glob(filem):\n",
        "\n",
        "    insta_image = Image.open(img)\n",
        "    #If your images include b&w, convert to RGB format uncomment below\n",
        "    #insta_image = Image.open(insta_image).convert('RGB')\n",
        "\n",
        "    img_t = transform(insta_image)\n",
        "    batch_t = torch.unsqueeze(img_t, 0)\n",
        "\n",
        "    #hangi_class = np.argmax(out_class.cpu().detach().numpy())\n",
        "    #print(hangi_class)\n",
        "    #plt.plot(out.cpu().detach().numpy().reshape(1000))\n",
        "    out_feature = resnet18_feature(batch_t.cuda())\n",
        "    out_feature = out_feature.view(512)\n",
        "    features[img] = out_feature.cpu().detach().numpy().reshape(512)\n",
        "    #plt.plot(out.cpu().detach().numpy().reshape(512))\n",
        "    "
      ],
      "execution_count": 0,
      "outputs": []
    },
    {
      "cell_type": "code",
      "metadata": {
        "id": "Ldzdj1JUx2Xq",
        "colab_type": "code",
        "colab": {}
      },
      "source": [
        "with open('features.pickle', 'wb') as f:\n",
        "\tpickle.dump(features, f)\n",
        "  #features.keys()"
      ],
      "execution_count": 0,
      "outputs": []
    },
    {
      "cell_type": "markdown",
      "metadata": {
        "id": "o-uKTQyC1HjS",
        "colab_type": "text"
      },
      "source": [
        "Now we have all feature in the pickle file, we can visualize them just like histogram."
      ]
    },
    {
      "cell_type": "code",
      "metadata": {
        "id": "uf4eRvN6zXJr",
        "colab_type": "code",
        "colab": {}
      },
      "source": [
        "with open('features.pickle', 'rb') as g:\n",
        "\tfeatures = pickle.load(g)\n",
        "  \n",
        "feat = np.zeros((100,512))\n",
        "\n",
        "for fil, filem in enumerate(features): #1\n",
        "  for fn,filename in enumerate(features[filem]):\n",
        "    feat[fil]=features[filem][filename]\n"
      ],
      "execution_count": 0,
      "outputs": []
    },
    {
      "cell_type": "code",
      "metadata": {
        "id": "BSntHjol2I3I",
        "colab_type": "code",
        "colab": {}
      },
      "source": [
        "\n",
        "tsne = TSNE(perplexity=25, n_components=2, init='random', n_iter=5000)\n",
        "X_2d = tsne.fit_transform(np.array(feat))\n",
        "X_2d -= X_2d.min(axis=0)\n",
        "X_2d /= X_2d.max(axis=0)\n",
        "with open('tsne_features.pickle', 'wb') as f:\n",
        "\tpickle.dump({'tsne':X_2d,'name':filenames}, f)\n",
        "\n",
        "\n",
        "grid = np.dstack(np.meshgrid(np.linspace(0, 1, 10), np.linspace(0, 1, 10))).reshape(-1, 2)\n",
        "cost_matrix = cdist(grid, X_2d, \"sqeuclidean\").astype(np.float32)\n",
        "out_res = 120\n",
        "   \n",
        "cost_matrix = cost_matrix * (100000 / cost_matrix.max())\n",
        "row_asses, col_asses, _ = lapjv(cost_matrix)\n",
        "grid_jv = grid[col_asses]\n",
        "\n",
        "with open('grid_jv.pickle', 'wb') as f:\n",
        "\tpickle.dump({'tsne':X_2d,'name':filenames,'grid_jv':grid_jv}, f)\n",
        "\n",
        "out = np.ones((10*out_res, 10*out_res, 3))\n",
        "\n",
        "for i in range(100):\n",
        "\tcoordinate_X =  int(np.floor(grid_jv[i,1]*9*out_res))\n",
        "\tcoordinate_Y =  int(np.floor(grid_jv[i,0]*9*out_res))\n",
        "\n",
        "\tim=Image.open(filenames[i][1]).convert('RGB').resize((120,120))\n",
        "\timage_data = np.asarray(im)\n",
        "\tout[coordinate_Y:coordinate_Y + out_res, coordinate_X:coordinate_X + out_res]  = image_data\n",
        "im = Image.fromarray(out.astype(np.uint8))\n",
        "im.save(\"tsne_features.png\")\n",
        "plt.imshow(im)"
      ],
      "execution_count": 0,
      "outputs": []
    },
    {
      "cell_type": "code",
      "metadata": {
        "id": "HfTAs8703IvY",
        "colab_type": "code",
        "colab": {}
      },
      "source": [
        ""
      ],
      "execution_count": 0,
      "outputs": []
    }
  ]
}